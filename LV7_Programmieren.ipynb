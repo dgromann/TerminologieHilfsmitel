{
  "nbformat": 4,
  "nbformat_minor": 0,
  "metadata": {
    "colab": {
      "name": "LV7_Programmieren.ipynb",
      "provenance": [],
      "collapsed_sections": [],
      "include_colab_link": true
    },
    "kernelspec": {
      "name": "python3",
      "display_name": "Python 3"
    }
  },
  "cells": [
    {
      "cell_type": "markdown",
      "metadata": {
        "id": "view-in-github",
        "colab_type": "text"
      },
      "source": [
        "<a href=\"https://colab.research.google.com/github/dgromann/TerminologieHilfsmitel/blob/master/LV7_Programmieren.ipynb\" target=\"_parent\"><img src=\"https://colab.research.google.com/assets/colab-badge.svg\" alt=\"Open In Colab\"/></a>"
      ]
    },
    {
      "cell_type": "markdown",
      "metadata": {
        "id": "ZvZfzSn7bXVl",
        "colab_type": "text"
      },
      "source": [
        "# Lektion 0: Dieses Notebook speichern \n",
        "\n",
        "Gehen Sie auf \"File\" (\"Datei\") und speichern Sie eine lokale Kopie dieses Notebooks, entweder auf Google Drive oder in Ihrem Github-Konto. Alternativ können Sie das Notebook auch herunterladen und lokal bearbeiten - Achtung dazu muss Python lokal installiert werden und die nachstehenden Code-Abschnitte direkt in Python ausgeführt werden. "
      ]
    },
    {
      "cell_type": "markdown",
      "metadata": {
        "id": "K7PUvU1f4H7C",
        "colab_type": "text"
      },
      "source": [
        "In diesem Notebook finden Sie ausführbaren Programmiercode, den Sie direkt in Ihrem Browser ausführen können. Code ist immer durch einen grauen Rahmen markiert. Wenn Sie in dem grauen Bereich klicken, wird eine \"Play\" Schalfläche sichtbar.\n",
        "\n",
        "**Praktische Übungen sind nachstehend als fett gedruckt markiert.**"
      ]
    },
    {
      "cell_type": "markdown",
      "metadata": {
        "id": "jHzL2Qjivc0N",
        "colab_type": "text"
      },
      "source": [
        "# Lektion 1: Hello world!\n",
        "\n",
        "Als Einsteigerbeispiel im Programmieren ist es üblich \"Hello World\" am Bildschirm auszugeben. \n",
        "\n",
        "Drücken Sie auf die \"Play\" Schaltfläche im nachstehenden grau markierten Bereich. \n",
        "    \n",
        "\n",
        "\n",
        "\n"
      ]
    },
    {
      "cell_type": "code",
      "metadata": {
        "id": "YaV3AOFPucdD",
        "colab_type": "code",
        "colab": {}
      },
      "source": [
        "print('Hello world!')"
      ],
      "execution_count": 0,
      "outputs": []
    },
    {
      "cell_type": "markdown",
      "metadata": {
        "id": "5EP7tdfxorzF",
        "colab_type": "text"
      },
      "source": [
        "Die Operation print mit nachstehenden runden Klammern gibt den Inhalt der Klammern aus. Die Ausgabe des Codes finden Sie immer unter dem grauen Bereich nachdem Sie die \"Play\" Schaltfläche gedrückt haben. \n",
        "\n",
        "**Übung: Ändern Sie die Ausgabe im nachstehenden Code auf Ihrem Namen, z.B. würde ich \"Hello world!\" durch \"Dagmar\" ersetzen, und geben Sie Ihren Namen auf dem Bildschirm aus.**"
      ]
    },
    {
      "cell_type": "code",
      "metadata": {
        "id": "mitaqd1HpTLu",
        "colab_type": "code",
        "colab": {}
      },
      "source": [
        "print('Hello world!')"
      ],
      "execution_count": 0,
      "outputs": []
    },
    {
      "cell_type": "markdown",
      "metadata": {
        "id": "PoEwbJ0PpZ0d",
        "colab_type": "text"
      },
      "source": [
        "# Lektion 2: Zahlen"
      ]
    },
    {
      "cell_type": "markdown",
      "metadata": {
        "id": "k7NDqyefpe3W",
        "colab_type": "text"
      },
      "source": [
        "Die vorherigen Beispiele waren vom Datentype Text, welcher beim Programmieren als \"String\" bezeichnet wird. Andere wichtige Datentypen sind jene der Zahlen, z.B. integer (int) für ganze Zahlen oder float für Gleitkommazahlen. \n",
        "\n",
        "Das nachstehende Beispiel zeigt wie man sich den Datentype durch den Befehl type() anzeigen lassen kann. \n",
        "\n",
        "Der Unterschied zwischen \"=\" und \"()\" ist jener, dass \"=\" einer Variable einen Wert oder Datentypen zuweist, wohingegen \"()\" eine Funktion aufruft. \n",
        "\n",
        "**Übung: Rufen Sie die Funktion \"type()\" auf und lassen Sie sich den Datentypen von \"b\" ausgeben. In Python gilt immer ein Aufruf pro Zeile.**"
      ]
    },
    {
      "cell_type": "code",
      "metadata": {
        "id": "KO0GA4uVp2wH",
        "colab_type": "code",
        "colab": {}
      },
      "source": [
        "a = 1\n",
        "b = 2.0 \n",
        "print(type(a))\n",
        "print(a)\n",
        "print(b)"
      ],
      "execution_count": 0,
      "outputs": []
    },
    {
      "cell_type": "markdown",
      "metadata": {
        "id": "Y19PqlO-X0X0",
        "colab_type": "text"
      },
      "source": [
        "**Übung: Geben Sie nun den Type von \"b\" erneut aus am Ende des nachstehenden Codes. Was wurde mit \"b\" in den nachstehenden zwei Zeilen gemacht?\"**"
      ]
    },
    {
      "cell_type": "code",
      "metadata": {
        "id": "MwK9CPTKX02w",
        "colab_type": "code",
        "colab": {}
      },
      "source": [
        "b = int(b)\n",
        "print(b)"
      ],
      "execution_count": 0,
      "outputs": []
    },
    {
      "cell_type": "markdown",
      "metadata": {
        "id": "EwkboBAnrGEY",
        "colab_type": "text"
      },
      "source": [
        "Der Computer heißt auch Rechner, da er tatsächlich rechnen kann. "
      ]
    },
    {
      "cell_type": "code",
      "metadata": {
        "id": "_tyDaaeVrKlo",
        "colab_type": "code",
        "colab": {}
      },
      "source": [
        "print('1 + 1 =', 1 + 1)\n",
        "print('2 / 2 = ', 2 / 2)\n",
        "print('8 * 5 = ', 8 * 5)"
      ],
      "execution_count": 0,
      "outputs": []
    },
    {
      "cell_type": "markdown",
      "metadata": {
        "id": "IbRsvGmKsEkB",
        "colab_type": "text"
      },
      "source": [
        "Nun kann ich bereits vorher bestimmte Variablen zur Berechnung verwenden. Nur wenn eine Operation ausgeführt wird, kommt es zu einer Ausgabe, nicht wenn Variable wie etwa \"breite\" und \"höhe\" in diesem Beispiel zugewiesen werden. Daher wird auch die Variable \"dimension\" nicht ausgegeben. "
      ]
    },
    {
      "cell_type": "code",
      "metadata": {
        "id": "vYGO2sp0sK6p",
        "colab_type": "code",
        "colab": {}
      },
      "source": [
        "print(\"a + a = \", a + a) # Hier kann ich auch Kommmentare eingeben, die nicht als Code gelten und nicht ausgegeben werden\n",
        "print(\"b - a = \", b - a)\n",
        "breite = 20 \n",
        "höhe = 5 * 2 # Hier wird das Ergebnis der Multiplikation der Variable höhe zugewiesen\n",
        "print(\"Die letzte Operation wird auch ohne print() ausgegeben:\") \n",
        "breite / höhe \n",
        "breite * höhe"
      ],
      "execution_count": 0,
      "outputs": []
    },
    {
      "cell_type": "markdown",
      "metadata": {
        "id": "2QFmfT6ctw7u",
        "colab_type": "text"
      },
      "source": [
        "**Übung: Berechnen Sie 12/(4+3)  und 3 * 3 und geben Sie die Ergebnisse aus.**"
      ]
    },
    {
      "cell_type": "code",
      "metadata": {
        "id": "B5kAz_Yit3g1",
        "colab_type": "code",
        "colab": {}
      },
      "source": [
        "#Geben Sie Ihre Berechnung auf der nächsten Zeile ein\n"
      ],
      "execution_count": 0,
      "outputs": []
    },
    {
      "cell_type": "markdown",
      "metadata": {
        "id": "yppBltJLYVg3",
        "colab_type": "text"
      },
      "source": [
        "Ich kann auch überprüfen ob eine Variable einen bestimmten Wert hat indem ich die Operation \"==\" verwende und die Funktion \"if\". Nur wenn (\"if\") die Bedingung nach dem \"if\" erfüllt wird, wird der danach stehende Code ausgeführt. Code wird einer If-Funktion zugewiesen, indem die Zeilen indentiert (eingerückt) werden."
      ]
    },
    {
      "cell_type": "code",
      "metadata": {
        "id": "MqwjEXSLYUqE",
        "colab_type": "code",
        "colab": {}
      },
      "source": [
        "if a == 3: \n",
        "  print(\"a is 3.\")\n",
        "\n",
        "if a == 1: \n",
        "  print(\"a is 1.\")"
      ],
      "execution_count": 0,
      "outputs": []
    },
    {
      "cell_type": "markdown",
      "metadata": {
        "id": "I1_gPB3MaUhS",
        "colab_type": "text"
      },
      "source": [
        "Es gibt auch einige komplexere Operationen die man ausführen kann."
      ]
    },
    {
      "cell_type": "code",
      "metadata": {
        "id": "yvd_NqxRaYp4",
        "colab_type": "code",
        "colab": {}
      },
      "source": [
        "print(\"Rest aus 11:3 = \", 11 % 3)\n",
        "print(\"11 hoch 2 = \", 11 ** 2)\n",
        "print(\"11 hoch 3 = \", 11 ** 3)"
      ],
      "execution_count": 0,
      "outputs": []
    },
    {
      "cell_type": "markdown",
      "metadata": {
        "id": "wlkvHyQQu2uJ",
        "colab_type": "text"
      },
      "source": [
        "# Lektion 3: Zeichenketten (Strings)"
      ]
    },
    {
      "cell_type": "markdown",
      "metadata": {
        "id": "6KjnxyB-u7tR",
        "colab_type": "text"
      },
      "source": [
        "Strings können in einfachen oder doppelten Anführungszeichen dargestellt werden."
      ]
    },
    {
      "cell_type": "code",
      "metadata": {
        "id": "Y-R5JojFvCnh",
        "colab_type": "code",
        "colab": {}
      },
      "source": [
        "print('Das ist ein String.')\n",
        "print(\"Das ist auch ein String\")\n",
        "print(\"Das ist der Unterschied:\")\n",
        "print('doesn\\'t')\n",
        "print(\"doesn't\")\n",
        "print('\"Ja\" hat er gesagt.')"
      ],
      "execution_count": 0,
      "outputs": []
    },
    {
      "cell_type": "markdown",
      "metadata": {
        "id": "gw-N3Mpqv5t3",
        "colab_type": "text"
      },
      "source": [
        "Um mehrzeilige Strings einzugeben kann man wie folgt vorgehen: "
      ]
    },
    {
      "cell_type": "code",
      "metadata": {
        "id": "u8a4RKLHv5Dq",
        "colab_type": "code",
        "colab": {}
      },
      "source": [
        "text = \"Der Mensch schreibt Verse. Das setzt eine dichterische Ader voraus. Aber auch der Computer versucht sich in der Poesie. Will er sich mit schöpferischen Menschen messen, so müßte auch der Rechner etwas von dieser geheimnisvollen Größe, der künstlerischen Gabe, verspüren. Wie wollen wir sie dem Blechkünstler einflößen?\"\n",
        "print(text)"
      ],
      "execution_count": 0,
      "outputs": []
    },
    {
      "cell_type": "markdown",
      "metadata": {
        "id": "uQvltYP3wOIa",
        "colab_type": "text"
      },
      "source": [
        "Damit man diesen langen Text auch am Bildschirm lesen kann, muss man Zielenumbrüche einfügen mithilfe von \"\\n\"."
      ]
    },
    {
      "cell_type": "code",
      "metadata": {
        "id": "64us_6qBwY2Q",
        "colab_type": "code",
        "colab": {}
      },
      "source": [
        "text = \"Der Mensch schreibt Verse. Das setzt eine dichterische Ader voraus. \\n Aber auch der Computer versucht sich in der Poesie. Will er sich mit schöpferischen Menschen messen, \\n so müßte auch der Rechner etwas von dieser geheimnisvollen Größe, der künstlerischen Gabe, verspüren. Wie wollen wir sie dem Blechkünstler einflößen?\"\n",
        "print(text)"
      ],
      "execution_count": 0,
      "outputs": []
    },
    {
      "cell_type": "markdown",
      "metadata": {
        "id": "F6fK9qzTwpDQ",
        "colab_type": "text"
      },
      "source": [
        "Auch auf Strings können Operationen ausgeführt werden.\n",
        "\n",
        "**Übung: Was passiert wenn ich einen String mit einer Zahl multipliziere? Versuchen Sie aufgrund einiger Test des nachstehenden Codes eine Antwort auf diese Frage zu finden.**"
      ]
    },
    {
      "cell_type": "code",
      "metadata": {
        "id": "H0znopBEwoGU",
        "colab_type": "code",
        "colab": {}
      },
      "source": [
        "wort = \"Terminologie\"\n",
        "print(wort*5)\n",
        "print(wort + wort)\n",
        "print(wort + \"e\")\n"
      ],
      "execution_count": 0,
      "outputs": []
    },
    {
      "cell_type": "markdown",
      "metadata": {
        "id": "yq7glURFZLT-",
        "colab_type": "text"
      },
      "source": [
        "Ich kann auch den Inhalt eines Strings mithilfe eines IF-Statements überprüfen."
      ]
    },
    {
      "cell_type": "code",
      "metadata": {
        "id": "aWaTLU4YZPxa",
        "colab_type": "code",
        "colab": {}
      },
      "source": [
        "if wort == \"Hilfsmittel\":\n",
        "  print(\"Hilfsmittel\")\n",
        "\n",
        "if wort == \"Terminologie\":\n",
        "  print(\"Terminologie\")"
      ],
      "execution_count": 0,
      "outputs": []
    },
    {
      "cell_type": "markdown",
      "metadata": {
        "id": "qijyR_rQV2JQ",
        "colab_type": "text"
      },
      "source": [
        "Strings sind automatisch indiziert, dass heißt jedem Buchstaben wird ein Index zugewiesen, dann man direkt ansteuern kann. Der Index beginnt mit \"0\", da dies die übliche Zählweise in der Informatik ist - man beginnt immer bei 0."
      ]
    },
    {
      "cell_type": "code",
      "metadata": {
        "id": "FEH8QRjIVziT",
        "colab_type": "code",
        "colab": {}
      },
      "source": [
        "print(\"Der erste Buchstabe des Wortes:\", wort[0])\n",
        "print(\"Der dritte Buchstabe des Wortes:\", wort[3])\n",
        "print(\"Vom ersten zum dritten Buchstaben:\", wort[1:4]) "
      ],
      "execution_count": 0,
      "outputs": []
    },
    {
      "cell_type": "markdown",
      "metadata": {
        "id": "FIS6PtgrXJYg",
        "colab_type": "text"
      },
      "source": [
        "Wird in einem Ausdruck mit zwei Indizes der erste ausgelassen, bedeutet es automatisch \"von Anfang an\". Wird der zweite ausgelassen, bedeutet es automatisch bis \"ganz zum Ende\"."
      ]
    },
    {
      "cell_type": "code",
      "metadata": {
        "id": "nIqW-TpsXKA2",
        "colab_type": "code",
        "colab": {}
      },
      "source": [
        "print(wort[:3]) # Die ersten drei Buchstaben \n",
        "print(wort[3:]) # Alle außer den ersten drei Buchstaben\n",
        "print(wort[:-2]) # Alles außer der letzten zwei Buchstaben\n",
        "print(wort[-2:]) # Nur die letzten zwei Buchstaben"
      ],
      "execution_count": 0,
      "outputs": []
    },
    {
      "cell_type": "markdown",
      "metadata": {
        "id": "6v9XCsmJcTGY",
        "colab_type": "text"
      },
      "source": [
        "**Übung: Geben Sie die letzten vier Buchstaben des Wortes \"wort\" mithilfe der nachstehenden Code-Zelle aus.** "
      ]
    },
    {
      "cell_type": "code",
      "metadata": {
        "id": "2X0QF689cSRF",
        "colab_type": "code",
        "colab": {}
      },
      "source": [
        "print()"
      ],
      "execution_count": 0,
      "outputs": []
    },
    {
      "cell_type": "markdown",
      "metadata": {
        "id": "gfMj1X0VZ0yB",
        "colab_type": "text"
      },
      "source": [
        "Strings und Zahlen können als einfache Datentypen gespeichert werden oder als Sammlungen von Datentypen, wie mithilfe der nachstehenden Liste gezeigt. "
      ]
    },
    {
      "cell_type": "code",
      "metadata": {
        "id": "SPtFMmfM10BY",
        "colab_type": "code",
        "cellView": "code",
        "colab": {}
      },
      "source": [
        "my_string = \"Terminologie und Hilfsmittel\"\n",
        "print(my_string)\n",
        "my_list = [\"Terminologie\", \"und\", \"Hilfsmittel\"]\n",
        "print(my_list)"
      ],
      "execution_count": 0,
      "outputs": []
    },
    {
      "cell_type": "markdown",
      "metadata": {
        "id": "aIVjx3x0aFvQ",
        "colab_type": "text"
      },
      "source": [
        "**Übung: Geben Sie die Variable \"my_string\" im nachstehenden Code-Feld drei Mal aus ohne die variable selbst zu wiederholen.***"
      ]
    },
    {
      "cell_type": "code",
      "metadata": {
        "id": "Yi8qazw5Emp4",
        "colab_type": "code",
        "colab": {}
      },
      "source": [
        ""
      ],
      "execution_count": 0,
      "outputs": []
    },
    {
      "cell_type": "markdown",
      "metadata": {
        "id": "VfVKgY9qa3gG",
        "colab_type": "text"
      },
      "source": [
        "# Lektion 4: Fehlermeldungen und erstes Programm"
      ]
    },
    {
      "cell_type": "markdown",
      "metadata": {
        "id": "lxUBGyYsa9gO",
        "colab_type": "text"
      },
      "source": [
        "Bei bestimmten Operationen können Datentypen nicht gemischt werden.\n",
        "\n",
        "**Übung: Sehen Sie sich den nachstehende Code an und führen Sie in aus. Sie werden eine Fehlermeldung bekommen. Wie kann der Fehler behoben werden? (Welche Zeile muss verändert / gelöscht werden?)"
      ]
    },
    {
      "cell_type": "code",
      "metadata": {
        "id": "VRIR23C6E7jr",
        "colab_type": "code",
        "colab": {}
      },
      "source": [
        "x = 1\n",
        "y = 2\n",
        "first = \"first\"\n",
        "print(x + y + 1) \n",
        "print(x + y + first)\n",
        "print(first, a, b)"
      ],
      "execution_count": 0,
      "outputs": []
    },
    {
      "cell_type": "markdown",
      "metadata": {
        "id": "_zG0OdiC_90W",
        "colab_type": "text"
      },
      "source": [
        "**Übung: Ändern Sie die drei Variablen mystring, myfloat, myint von None auf einen anderen Wert, der die drei nachstehenden \"print\"-Statements ausgibt.**"
      ]
    },
    {
      "cell_type": "code",
      "metadata": {
        "id": "2likxUgrAmZz",
        "colab_type": "code",
        "colab": {}
      },
      "source": [
        "# Exercise: change the values of the three variables below so that their \n",
        "# values are printed by the test code\n",
        "mystring = None\n",
        "myfloat = None\n",
        "myint = None\n",
        "\n",
        "# Test code\n",
        "if mystring == \"hello\":\n",
        "    print(\"String: %s\" % mystring)\n",
        "if isinstance(myfloat, float) and myfloat == 10.0:\n",
        "    print(\"Float: %f\" % myfloat)\n",
        "if isinstance(myint, int) and myint == 20:\n",
        "    print(\"Integer: %d\" % myint)"
      ],
      "execution_count": 0,
      "outputs": []
    }
  ]
}