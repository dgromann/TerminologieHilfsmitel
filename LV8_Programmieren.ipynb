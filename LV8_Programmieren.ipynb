{
  "nbformat": 4,
  "nbformat_minor": 0,
  "metadata": {
    "colab": {
      "name": "LV8_Programmieren.ipynb",
      "provenance": [],
      "collapsed_sections": [],
      "include_colab_link": true
    },
    "kernelspec": {
      "name": "python3",
      "display_name": "Python 3"
    }
  },
  "cells": [
    {
      "cell_type": "markdown",
      "metadata": {
        "id": "view-in-github",
        "colab_type": "text"
      },
      "source": [
        "<a href=\"https://colab.research.google.com/github/dgromann/TerminologieHilfsmitel/blob/master/LV8_Programmieren.ipynb\" target=\"_parent\"><img src=\"https://colab.research.google.com/assets/colab-badge.svg\" alt=\"Open In Colab\"/></a>"
      ]
    },
    {
      "cell_type": "markdown",
      "metadata": {
        "id": "WqQemUMhFOnB",
        "colab_type": "text"
      },
      "source": [
        "**Um dieses Notebook in Google Colab zu öffnen, klicken Sie bitte direkt unter das Logo in der Mitte über dieser Zeile. Damit sollte sich dann das Notebook in einem neuen Tab in Google Colab öffnen.**"
      ]
    },
    {
      "cell_type": "markdown",
      "metadata": {
        "id": "ZvZfzSn7bXVl",
        "colab_type": "text"
      },
      "source": [
        "# Lektion 0: Dieses Notebook speichern \n",
        "\n",
        "Gehen Sie auf \"File\" (\"Datei\") und speichern Sie eine lokale Kopie dieses Notebooks, entweder auf Google Drive oder in Ihrem Github-Konto. Alternativ können Sie das Notebook auch herunterladen und lokal bearbeiten - Achtung dazu muss Python lokal installiert werden und die nachstehenden Code-Abschnitte direkt in Python ausgeführt werden. "
      ]
    },
    {
      "cell_type": "markdown",
      "metadata": {
        "id": "K7PUvU1f4H7C",
        "colab_type": "text"
      },
      "source": [
        "In diesem Notebook finden Sie ausführbaren Programmiercode, den Sie direkt in Ihrem Browser ausführen können. Code ist immer durch einen grauen Rahmen markiert. Wenn Sie in dem grauen Bereich klicken, wird eine \"Play\" Schalfläche sichtbar.\n",
        "\n",
        "**Praktische Übungen sind nachstehend als fett gedruckt markiert.**"
      ]
    },
    {
      "cell_type": "markdown",
      "metadata": {
        "id": "jHzL2Qjivc0N",
        "colab_type": "text"
      },
      "source": [
        "# Lektion 1: Listen\n",
        "\n",
        "Eine Liste von Werten wird in Python durch eckige Klammer und eine Trennung durch Beistriche dargestellt. Die Werte müssen nicht alle den selben Datentype haben. Beispielsweise ist das hier eine Kombination aus Strings (Zeichenketten) und Integer (ganzen Zahlen):    \n",
        "\n",
        "\n",
        "\n"
      ]
    },
    {
      "cell_type": "code",
      "metadata": {
        "id": "aKH8xwY1GZrv",
        "colab_type": "code",
        "colab": {}
      },
      "source": [
        "liste = ['diese', 'Liste', 'hat', 5, 'Elemente']\n",
        "print(liste)"
      ],
      "execution_count": 0,
      "outputs": []
    },
    {
      "cell_type": "markdown",
      "metadata": {
        "id": "5EP7tdfxorzF",
        "colab_type": "text"
      },
      "source": [
        "Auf Listen können ähnliche Operationen wie auf Strings ausgeführt werden:\n",
        "\n"
      ]
    },
    {
      "cell_type": "code",
      "metadata": {
        "id": "mitaqd1HpTLu",
        "colab_type": "code",
        "colab": {}
      },
      "source": [
        "#Indexierung \n",
        "print(liste[0])\n",
        "print(liste[:2])\n",
        "print(liste[1:])\n",
        "print(liste*3)\n",
        "\n",
        "#liste[0] gibt mir das erste Wort zurück, also kann ich auch das wiederum indizieren\n",
        "print(liste[0][1])\n"
      ],
      "execution_count": 0,
      "outputs": []
    },
    {
      "cell_type": "markdown",
      "metadata": {
        "id": "N364ObT-H4IN",
        "colab_type": "text"
      },
      "source": [
        "Im Gegensatz zu Strings können Listen verändert werden. Man kann die numerischen Werte in der Liste beispielsweise verändern:"
      ]
    },
    {
      "cell_type": "code",
      "metadata": {
        "id": "sa8bjpExICCG",
        "colab_type": "code",
        "colab": {}
      },
      "source": [
        "liste[3] = liste[3]+23\n",
        "print(liste)"
      ],
      "execution_count": 0,
      "outputs": []
    },
    {
      "cell_type": "markdown",
      "metadata": {
        "id": "gDA-IUvwIUgC",
        "colab_type": "text"
      },
      "source": [
        "Man kann aber auch die Strings darin verändern:"
      ]
    },
    {
      "cell_type": "code",
      "metadata": {
        "id": "Fhqzgf6zIW_b",
        "colab_type": "code",
        "colab": {}
      },
      "source": [
        "liste[0] = \"eine\"\n",
        "print(liste)"
      ],
      "execution_count": 0,
      "outputs": []
    },
    {
      "cell_type": "markdown",
      "metadata": {
        "id": "EdicI9HKIjnb",
        "colab_type": "text"
      },
      "source": [
        "Ebenso können Elemente entfernt oder hinzugefügt werden:"
      ]
    },
    {
      "cell_type": "code",
      "metadata": {
        "id": "s3E-MzOwIl6Q",
        "colab_type": "code",
        "colab": {}
      },
      "source": [
        "#Elemente entfernen\n",
        "liste[0:2] = []\n",
        "print('Elemente entfernt:', liste)\n",
        "\n",
        "#Elemente hinzufügen\n",
        "liste = liste + [\"das\"]\n",
        "print(\"'das' am Ende hinzugefügt:\", liste)\n",
        "\n",
        "#Oder auch so \n",
        "liste[:0] = liste\n",
        "print('Liste um sich selbst erweitert:', liste)\n",
        "\n",
        "#Oder noch eleganter so, wobei der Index angegeben werden muss: \n",
        "liste.insert(0,\"so\")\n",
        "print('Liste an erster Stelle um \"so\" erweitert', liste)"
      ],
      "execution_count": 0,
      "outputs": []
    },
    {
      "cell_type": "markdown",
      "metadata": {
        "id": "PGC-3RdCJ_tK",
        "colab_type": "text"
      },
      "source": [
        "Ebenso wie bei Strings, kann man die Länge einer Liste durch die Funktion \n",
        "`\n",
        "len()\n",
        "`\n",
        "herausfinden:"
      ]
    },
    {
      "cell_type": "code",
      "metadata": {
        "id": "-eoxEBvuKNKO",
        "colab_type": "code",
        "colab": {}
      },
      "source": [
        "my_string = \"Terminologie\"\n",
        "print(\"Länge des Strings: \", len(my_string))\n",
        "print(\"Länge der Liste: \", len(liste))"
      ],
      "execution_count": 0,
      "outputs": []
    },
    {
      "cell_type": "markdown",
      "metadata": {
        "id": "4UAixvUGKucV",
        "colab_type": "text"
      },
      "source": [
        "**Übung:**\n",
        "*   **Wie lange ist die nachstehende Liste?**\n",
        "*   **Ersetzen Sie in der nachstehenden Liste das letzte Wort \"müde\" durch \"fröhlich\".**\n",
        "*   **Ziehen Sie von den letzten beiden Elementen 2 ab.** \n",
        "*   **Addieren Sie am Ende den String \"test\".** \n",
        "*  **Wie lange ist Ihre Liste jetzt?**\n"
      ]
    },
    {
      "cell_type": "code",
      "metadata": {
        "id": "CxNsjYNLLCJk",
        "colab_type": "code",
        "colab": {}
      },
      "source": [
        "test_liste = [\"Warum\", \"bin\", \"ich\", \"so\", \"müde\", 123, 56]"
      ],
      "execution_count": 0,
      "outputs": []
    },
    {
      "cell_type": "markdown",
      "metadata": {
        "id": "PoEwbJ0PpZ0d",
        "colab_type": "text"
      },
      "source": [
        "# Lektion 2: Ablaufsteuerung"
      ]
    },
    {
      "cell_type": "markdown",
      "metadata": {
        "id": "k7NDqyefpe3W",
        "colab_type": "text"
      },
      "source": [
        "Das letzte Mal haben wir schon das `if`-Statemeent kennengelernt. Es gibt aber noch weitere Hilfreiche Anweisungen um den Ablauf des Programms zu steuern.\n",
        "\n",
        "Hier nochmals zur Auffrischung und Erweiterung die `if`-Anweisung. `else` und `elif` sind optional, wobei erstes nur einmal vorkommen kann als Alternativbedingung zu `if` und `elif` mehrere Alternativbedinungen darstellen kann. `else` stellt alle Fälle außer der in der `if`/`elif`-Anweisung genannten Bedingung(en) dar. Zum Beispiel, wenn die Bedingung `> 10` für eine Zahl lautet, dann wird `else` bei allen Zahlen die kleiner als 10 sind ausgeführt. Daher wird `else` ohne explizite Bedingung geschrieben nur als `else:`.\n",
        "\n",
        "Schreibt man mehrere `if`-Anweisungen nacheinander, so sind diese unabhängig und werden alle ausgeführt, wenn die genannte Bedingung zutrifft. Andernfalls, bei der Kombination von `if` mit `else` oder `elif`, wird immer nur eine Bedingung ausgeführt.\n",
        "\n",
        "**Übung: Verändern Sie den Wert von x mehrfach und so, dass jedes Mal eine andere Ausgabe erscheint bis alle Bedingungen einmal erfüllt wurden.**"
      ]
    },
    {
      "cell_type": "code",
      "metadata": {
        "id": "KO0GA4uVp2wH",
        "colab_type": "code",
        "colab": {}
      },
      "source": [
        "x = 21 \n",
        "\n",
        "if x > 20: \n",
        "  print(\"x größer als 20\")\n",
        "elif x == 15: \n",
        "  print(\"Der Wert von x entspricht exakt 15\")\n",
        "elif x <= 10:\n",
        "  print(\"x ist kleiner als oder gleich groß wie 10\")\n",
        "else:\n",
        "  print(\"Keine der Bedinungen wurde erfüllt\")\n",
        "\n"
      ],
      "execution_count": 0,
      "outputs": []
    },
    {
      "cell_type": "markdown",
      "metadata": {
        "id": "YqV9q1vX167F",
        "colab_type": "text"
      },
      "source": [
        "Die `if`-Anweisung kann auch auf Strings angewandt werden. Vielleicht haben Sie schon bemerkt, dass Variablen (so wie \"sentence\" im nachstehenden Beispiel) in der Regel klein geschrieben werden und keine Leerzeichen enthalten können (daher öfter einmal der Unterschrich \"_\" in vorherigen Beispielen). \n",
        "\n",
        "**Übung: Ändern Sie die den folgenden Satz so, dass die zweite Bedingung zutrifft, aber nicht mehr die erste. Hinweis: Treffen zwei Bedingungen gleichzeitig zu, wird nur der Code nach der ersten Bedingung berücksichtigt.**"
      ]
    },
    {
      "cell_type": "code",
      "metadata": {
        "id": "AhBt15-I2Dhp",
        "colab_type": "code",
        "colab": {}
      },
      "source": [
        "sentence = \"Programmieren ist eigentlich gar nicht so schwierig.\"\n",
        "\n",
        "if \"schwierig\" in sentence: \n",
        "  print(\"Dieser Satz enthält das Wort 'schwierig'.\")\n",
        "elif len(sentence) > 55:\n",
        "  print(\"Dieser Satz hat mehr als 100 Zeichen\")\n"
      ],
      "execution_count": 0,
      "outputs": []
    },
    {
      "cell_type": "markdown",
      "metadata": {
        "id": "tHQ96POIOUtA",
        "colab_type": "text"
      },
      "source": [
        "Eine andere wichtige Anweisung ist die `for`-Schleife. Dadurch kann man über Variablen mit mehreren Elementen iterieren."
      ]
    },
    {
      "cell_type": "code",
      "metadata": {
        "id": "MwK9CPTKX02w",
        "colab_type": "code",
        "colab": {}
      },
      "source": [
        "feld = [\"Und\", \"noch\", \"eine\", \"Liste\"]\n",
        "#In der For-Schleife wird das Element benannt, um es danach ansprechen zu können - ob Sie es \"x\" oder irgendwie anders benennen ist egal\n",
        "for x in feld: \n",
        "  print(x, len(x))"
      ],
      "execution_count": 0,
      "outputs": []
    },
    {
      "cell_type": "markdown",
      "metadata": {
        "id": "EwkboBAnrGEY",
        "colab_type": "text"
      },
      "source": [
        "\n",
        "\n",
        "`for`-Schleifen können auch mit `if`-Anweisungen kombiniert werden:\n",
        "\n"
      ]
    },
    {
      "cell_type": "code",
      "metadata": {
        "id": "_tyDaaeVrKlo",
        "colab_type": "code",
        "colab": {}
      },
      "source": [
        "#feld[:] erstellt eine Kopie von feld => wenn ich über Feld direkt iteriere, wird nach \"Liste\" das Wort \n",
        "# \"Liste\" hinzugefügt, wodurch die If-Bedingung erfüllt ist und es wird wieder \"Liste\" hinzugefügt\n",
        "# wodurch die If-Bedingung erfüllt ist, etc. in einer Endlosschleife\n",
        "for elem in feld[:]: \n",
        "  if len(elem) > 4:\n",
        "    feld.insert(0,elem)\n",
        "    \n",
        "print(feld)"
      ],
      "execution_count": 0,
      "outputs": []
    },
    {
      "cell_type": "markdown",
      "metadata": {
        "id": "IbRsvGmKsEkB",
        "colab_type": "text"
      },
      "source": [
        "Der Index, also die Stelle jedes Elements in einer Liste oder jedes Buchstaben in einem String, kann auch mitausgegeben werden. Um alle Stellen einer Liste zu durchlaufen, muss ich eine Liste von Zahlen für den Index erstellen. Also um eine Liste von 5 Elementen zu durchlaufen, brauche ich eine Liste mit den Zahlen 0 bis 4. Dazu kann ich die Funkiont `range()` verwenden wie im folgenden Beispiel gezeigt:"
      ]
    },
    {
      "cell_type": "code",
      "metadata": {
        "id": "B5kAz_Yit3g1",
        "colab_type": "code",
        "colab": {}
      },
      "source": [
        "#Beispiel von range der Länge 5 (wir beginnen bei 0 zu zählen)\n",
        "print(range(5))\n",
        "for i in range(5):\n",
        "  print(i)\n",
        "\n",
        "#Um jedes Element der Liste mit dem Index auszugeben, muss ich die gesamte Länge des Feldes durchlaufen\n",
        "for i in range(len(feld)):\n",
        "  print(i, feld[i])"
      ],
      "execution_count": 0,
      "outputs": []
    },
    {
      "cell_type": "markdown",
      "metadata": {
        "id": "kdMvy2DqSn9E",
        "colab_type": "text"
      },
      "source": [
        "Um eine Schleife bei einem bestimmten Punkt zu unterbrechen gibt es die Anweisung `break`. Im nachstehenden Beispiel weiß ich wie lange die Liste ist. Aber wenn ich das nicht weiß, ist break und das nachfolgende Beispiel hilfreich."
      ]
    },
    {
      "cell_type": "code",
      "metadata": {
        "id": "8pwoc7NBSs_B",
        "colab_type": "code",
        "colab": {}
      },
      "source": [
        "#Die print() Anweisung muss nach dern Unterbrechung der Schleife kommen, da sonst noch\n",
        "# versucht wird ein viertes, nicht vorhandenes Element anzusprechen\n",
        "liste = [1, 2, 3]\n",
        "for i in range(5): \n",
        "  if len(liste) <= i: \n",
        "    break\n",
        "  print(liste[i])"
      ],
      "execution_count": 0,
      "outputs": []
    },
    {
      "cell_type": "markdown",
      "metadata": {
        "id": "MtXpANhoOaAH",
        "colab_type": "text"
      },
      "source": [
        "**Übung: Laufen Sie durch das nachstehende Feld und geben Sie \"erreicht\" aus wenn das Element \"LV\" erreicht wurde und unterbrechen Sie die Schleife in diesem Moment.***"
      ]
    },
    {
      "cell_type": "code",
      "metadata": {
        "id": "YlvXzsxKOmIv",
        "colab_type": "code",
        "colab": {}
      },
      "source": [
        "übungs_liste = [\"Terminologie\", \"Hilfsmittel\", \"LV\"]\n",
        "\n",
        "#Vervollständigen Sie für diese Übung den nachstehenden Code\n",
        "for i in :\n",
        "  if : \n",
        "    print()"
      ],
      "execution_count": 0,
      "outputs": []
    },
    {
      "cell_type": "markdown",
      "metadata": {
        "id": "DETkXDuYPrTs",
        "colab_type": "text"
      },
      "source": [
        "Es gibt auch noch die Möglichkeit so lange über bestimmte Code-Zeilen zu laufen, bis eine Abbruchsbedingung erfüllt ist. Diese Anweisung heißt `while()`, also solange eine Bedingung erfüllt ist, wird der Code ausgeführt. \n",
        "\n",
        "**Übung: Bevor sie den nachstehenden Code ausgeben, was denken Sie wird die Summe von \"s\" am Ende sein? Wenn Ihnen das Ergebns unlogisch erscheint, geben Sie unter der Zeile `s = s + i` die Zeile print(i, s) aus um sich die Veränderung der Werte anzuschauen.**"
      ]
    },
    {
      "cell_type": "code",
      "metadata": {
        "id": "ZsCZZLbBP21Y",
        "colab_type": "code",
        "colab": {}
      },
      "source": [
        "n = 100\n",
        "\n",
        "s = 0\n",
        "i = 1\n",
        "while i <= n:\n",
        "    s = s + i\n",
        "    i = i + 1\n",
        "\n",
        "print(\"Die Summe lautet: \", s)"
      ],
      "execution_count": 0,
      "outputs": []
    },
    {
      "cell_type": "markdown",
      "metadata": {
        "id": "-0GdWpvYT7yF",
        "colab_type": "text"
      },
      "source": [
        "Die Unterbrechung der Schleife kann auch auf eine `while()`-Schleife angewandt werden."
      ]
    },
    {
      "cell_type": "code",
      "metadata": {
        "id": "Y1fOk_C3UAZz",
        "colab_type": "code",
        "colab": {}
      },
      "source": [
        "n = 100 \n",
        "\n",
        "s = 0\n",
        "i = 1 \n",
        "while i <= n: \n",
        "  s = s + i \n",
        "  i = i + 1 \n",
        "  if s >= 300:\n",
        "    break\n",
        "\n",
        "print(\"Die Summe lautet: \", s, \" und der Wert von 'i' lautet zu diesem Zeitpunkt \", i)"
      ],
      "execution_count": 0,
      "outputs": []
    },
    {
      "cell_type": "markdown",
      "metadata": {
        "id": "wlkvHyQQu2uJ",
        "colab_type": "text"
      },
      "source": [
        "# Lektion 3: Funktionen definieren"
      ]
    },
    {
      "cell_type": "markdown",
      "metadata": {
        "id": "6KjnxyB-u7tR",
        "colab_type": "text"
      },
      "source": [
        "Neben den vordefinierten Funktionen wie `print()` und `range()` kann ich auch meinen eigenen Code mit einer Definition umfassen, um den Code besser zu organisieren. Diese dann jederzeit aus jeder nachfolgenden Zeile angesprochen werden kann. Funktionen folgen dem folgenden Schema: \n",
        "\n",
        "```\n",
        "def funktions-name(Parameterliste):\n",
        "    Anweisung(en)\n",
        "    return Ausgabe\n",
        "```\n",
        "\n",
        "Die Parameterliste kann ein Parameter sein (ein Wert, eine Variable, etc.) oder mehrere. Wenn es mehrere sind, werden die Parameter durch Kommas getrennt. \n",
        "\n",
        "Alle Codezeilen die nach `def` kommen werden ausgeführt, wenn die Funktion aufgerufen wird. Ich kann innerhalb der Funktion nur jene Variablen verwenden, die entweder in den Zeilen davor definiert wurden oder mithilfe der Parameterliste übergeben wurden. Um den Code gut wiederverwendbar zu machen, werden normalerweise alle benötigten Variablen an die Funktion übergeben. \n",
        "\n",
        "Mithilfe der `return` Anweisung kann ich etwas in der Funktion bearbeitetes an die Ziele zurückgeben, in welcher die Funktion aufgerufen wurde. Zum Beispiel: "
      ]
    },
    {
      "cell_type": "code",
      "metadata": {
        "id": "Y-R5JojFvCnh",
        "colab_type": "code",
        "colab": {}
      },
      "source": [
        "\"\"\" Gibt die Temperatur in Farenheit zurück \"\"\"\n",
        "def fahrenheit(T_in_celsius):\n",
        "    return (T_in_celsius * 9 / 5) + 32\n",
        "\n",
        "#Zwei Beispiele für einen Funktionsaufruf \n",
        "print(fahrenheit(2))\n",
        "\n",
        "for t in (22.6, 25.8, 27.3, 29.8):\n",
        "  print(\"Celcius \", t, \": Fahrenheit\", fahrenheit(t))"
      ],
      "execution_count": 0,
      "outputs": []
    },
    {
      "cell_type": "markdown",
      "metadata": {
        "id": "j7pDSnnLWZ9m",
        "colab_type": "text"
      },
      "source": [
        "# Lektion 4: Erste NLP Schritte"
      ]
    },
    {
      "cell_type": "markdown",
      "metadata": {
        "id": "yjazEuTzWdBc",
        "colab_type": "text"
      },
      "source": [
        "Natural Language Processing (NLP) sind verschiedene linguistische Verarbeitungsprozesse, die in Python sehr gut mithilfe verschiedener existierender Bibliotheken angesprochen werden kann. Die wichtigste ist das Natural Language Toolkit (NLTK). Um eine gesamte Bibliothek an existierendem Code anzusprechen, muss diese mithilfe der `import` Anweisung impoertiert werden.\n",
        "\n",
        "Bevor NLTK verwendet werden kann, muss die Bibliothek als Python-Paket installiert werden. Dazu wird das Installationsprogramm `pip` verwendet (von Python) und dann werden bestimmte Module, hier das Modul \"punkt\" geladen. Der nachfolgende Code muss nur einmal ausgeführt werden und installiert NLTK und alle heute benötigten Module. \n",
        "\n"
      ]
    },
    {
      "cell_type": "code",
      "metadata": {
        "id": "7kCkj14ucRHr",
        "colab_type": "code",
        "colab": {}
      },
      "source": [
        "# Diese Feld muss nur einmal ausgeführt werden um NLTK und einige Pakete, die wir heute verwenden zu installieren \n",
        "# alternativ können Sie auch einfach nltk.downlad('all') sagen, wenn Sie nicht immer einzlene Pakete installieren wollen \n",
        "!pip install nltk\n",
        "nltk.download('punkt')\n",
        "nltk.download('wordnet')\n",
        "nltk.download('stopwords')\n",
        "nltk.download('webtext')"
      ],
      "execution_count": 0,
      "outputs": []
    },
    {
      "cell_type": "code",
      "metadata": {
        "id": "Ci0AzGp2WcbX",
        "colab_type": "code",
        "colab": {}
      },
      "source": [
        "import nltk \n",
        "\n",
        "eingabe = \"It's raining cats and dogs outside.\"\n",
        "\n",
        "tokens = nltk.word_tokenize(eingabe)\n",
        "print(\"Tokens: \", tokens)\n",
        "\n",
        "deutsch = \"Diese Funktion gibt es auch für Deutsch: \"\n",
        "print(deutsch, nltk.word_tokenize(deutsch))"
      ],
      "execution_count": 0,
      "outputs": []
    },
    {
      "cell_type": "markdown",
      "metadata": {
        "id": "JmPfarchZFCj",
        "colab_type": "text"
      },
      "source": [
        "Einen guten Überblick über alle Funktionen und Wiederverwendbaren Elemente von NLTK erhalten Sie [hier](https://www.nltk.org/book/ch01.html). In diesem kurzen Einblick zeigen wir nur noch ein paar weitere interessante Funktionen, wie etwa Lemmatisierung: "
      ]
    },
    {
      "cell_type": "code",
      "metadata": {
        "id": "u8a4RKLHv5Dq",
        "colab_type": "code",
        "colab": {}
      },
      "source": [
        "from nltk.stem import WordNetLemmatizer\n",
        " \n",
        "lemmatizer = WordNetLemmatizer()\n",
        "\n",
        "#Definition einer leeren Liste\n",
        "lemmas = []\n",
        "for t in tokens: \n",
        "  #Anhängen von Elementen, hier lemmatisierte Tokens, an die Liste\n",
        "  lemmas.append(lemmatizer.lemmatize(t))\n",
        "\n",
        "print(lemmas)\n"
      ],
      "execution_count": 0,
      "outputs": []
    },
    {
      "cell_type": "markdown",
      "metadata": {
        "id": "SInBhARga7oJ",
        "colab_type": "text"
      },
      "source": [
        "Es gibt vorgefertigte Stoppwortlisten. \n",
        "\n",
        "**Frage: Welches Wort wurde hier als Stoppwort in unserer Liste aus Tokens ersetzt?**"
      ]
    },
    {
      "cell_type": "code",
      "metadata": {
        "id": "rbrDSXMWa_1M",
        "colab_type": "code",
        "colab": {}
      },
      "source": [
        "from nltk.corpus import stopwords\n",
        "\n",
        "stoplist = stopwords.words('english')\n",
        "print(stoplist)\n",
        "\n",
        "for t in tokens: \n",
        "  if t in stoplist: \n",
        "    tokens.remove(t)\n",
        "\n",
        "print(tokens)\n"
      ],
      "execution_count": 0,
      "outputs": []
    },
    {
      "cell_type": "markdown",
      "metadata": {
        "id": "IKgIJBgXdi3J",
        "colab_type": "text"
      },
      "source": [
        "NLTK kommt auch mit vielen bereits gereinigten Korpora, wie beispielsweise diesen Webtext-Korpus: "
      ]
    },
    {
      "cell_type": "code",
      "metadata": {
        "id": "2QDo-OOWdltl",
        "colab_type": "code",
        "colab": {}
      },
      "source": [
        "from nltk.corpus import webtext\n",
        "\n",
        "# Gibt mir die enthaltenen Dateien aus\n",
        "print(webtext.fileids())\n",
        "\n",
        "#So kann ich die einzelnen Dateien ansprechen \n",
        "print(webtext.raw('grail.txt'))\n",
        "\n"
      ],
      "execution_count": 0,
      "outputs": []
    },
    {
      "cell_type": "markdown",
      "metadata": {
        "id": "8sqbdjfzezBe",
        "colab_type": "text"
      },
      "source": [
        "**Übung: Schreiben Sie eine vollständige Funktion die einen String als Parameter übernimmt, diesen tokenisiert und lemmatisiert und dann zurückgibt.**"
      ]
    },
    {
      "cell_type": "code",
      "metadata": {
        "id": "9VFUxnV-e6tK",
        "colab_type": "code",
        "colab": {}
      },
      "source": [
        "#Vervollständigen Sie für diese Übung den nachstehenden Code\n",
        "def preprocess(): \n",
        "  #Ihr Code hier\n",
        "\n",
        "#Überprüfung ob die Funktion auch funktioniert\n",
        "print(preprocess(\"Tests such as this are necessary.\"))"
      ],
      "execution_count": 0,
      "outputs": []
    },
    {
      "cell_type": "markdown",
      "metadata": {
        "id": "33Jl51-fbxe5",
        "colab_type": "text"
      },
      "source": [
        "# Lektion 4: Deutsches NLP"
      ]
    },
    {
      "cell_type": "markdown",
      "metadata": {
        "id": "vamEos4lb3dY",
        "colab_type": "text"
      },
      "source": [
        "NLTK ist der absolute Standard in NLP derzeit, unterstüzt aber leider die deutsche Sprache nur sehr begrenzt. Daher ist es für Deutsch oder generell attraktiv eine Alternative zu verwenden wie etwa [SpaCy](https://spacy.io/). Dazu müssen wir wiederum space installieren wie folgt:"
      ]
    },
    {
      "cell_type": "code",
      "metadata": {
        "id": "z7ERpcyTb22S",
        "colab_type": "code",
        "colab": {}
      },
      "source": [
        "!python -m spacy download de"
      ],
      "execution_count": 0,
      "outputs": []
    },
    {
      "cell_type": "markdown",
      "metadata": {
        "id": "fd7iosLCcsQV",
        "colab_type": "text"
      },
      "source": [
        "Spacy ist sehr benutzerfreundlich und man kann mit wenigen Zeilen sehr viel erreichen. \n",
        "\n",
        "**Übung: Was gibt uns die folgende Ausgabe an Informationen? Versuchen Sie es mit einem eigenen Beipsiel.**"
      ]
    },
    {
      "cell_type": "code",
      "metadata": {
        "id": "NhHpQAWkc6S1",
        "colab_type": "code",
        "colab": {}
      },
      "source": [
        "import spacy\n",
        "from spacy.lang.de.examples import sentences \n",
        "\n",
        "nlp = spacy.load('de')\n",
        "doc = nlp(sentences[1])\n",
        "print(doc.text)\n",
        "for token in doc:\n",
        "    print(token.text, token.pos_, token.dep_)"
      ],
      "execution_count": 0,
      "outputs": []
    }
  ]
}